{
  "nbformat": 4,
  "nbformat_minor": 0,
  "metadata": {
    "colab": {
      "provenance": [],
      "authorship_tag": "ABX9TyOJQnyy2DN7THPLm9ZibYrJ",
      "include_colab_link": true
    },
    "kernelspec": {
      "name": "python3",
      "display_name": "Python 3"
    },
    "language_info": {
      "name": "python"
    }
  },
  "cells": [
    {
      "cell_type": "markdown",
      "metadata": {
        "id": "view-in-github",
        "colab_type": "text"
      },
      "source": [
        "<a href=\"https://colab.research.google.com/github/Charishma-Bailapudi/Web_scraping_Hotel-Data_from_booking.com/blob/main/Web_Scraping__on_hotel__data_from_Booking_com.ipynb\" target=\"_parent\"><img src=\"https://colab.research.google.com/assets/colab-badge.svg\" alt=\"Open In Colab\"/></a>"
      ]
    },
    {
      "cell_type": "code",
      "execution_count": 1,
      "metadata": {
        "id": "eW-Iqm__sjkh"
      },
      "outputs": [],
      "source": [
        "from bs4 import BeautifulSoup\n",
        "import pandas as pd\n",
        "import requests\n",
        "import numpy as np\n",
        "import re"
      ]
    },
    {
      "cell_type": "code",
      "source": [
        "def get_Hotel_Name(soup):\n",
        "\n",
        "    try:\n",
        "        # Outer Tag Object\n",
        "        title = soup.find(\"h2\", attrs={\"class\":'d2fee87262 pp-header__title'})\n",
        "        \n",
        "        # Inner NavigatableString Object\n",
        "        title_value = title.text\n",
        "\n",
        "        # Title as a string value\n",
        "        title_string = title_value.strip()\n",
        "\n",
        "    except AttributeError:\n",
        "        title_string = \"\"\n",
        "\n",
        "    return title_string\n",
        "\n",
        "def get_Hotel_Rating(soup):\n",
        "    try:\n",
        "        # Outer Tag Object\n",
        "        title = soup.find(\"div\", attrs={\"class\":'b5cd09854e d10a6220b4'})\n",
        "        \n",
        "        # Inner NavigatableString Object\n",
        "        title_value = title.text\n",
        "\n",
        "        # Title as a string value\n",
        "        title_string = title_value.strip()\n",
        "\n",
        "    except AttributeError:\n",
        "        title_string = \"\"\n",
        "\n",
        "    return title_string\n",
        "\n",
        "def get_Room_type(soup):\n",
        "    try:\n",
        "        # Outer Tag Object\n",
        "        title = soup.find(\"span\", attrs={\"class\":'hprt-roomtype-icon-link'})\n",
        "\n",
        "        # Inner NavigatableString Object\n",
        "        title_value = title.text\n",
        "\n",
        "        # Title as a string value\n",
        "        title_string = title_value.strip()\n",
        "\n",
        "    except AttributeError:\n",
        "        title_string = \"\"\n",
        "\n",
        "    return title_string\n",
        "\n",
        "def get_Original_price(soup):\n",
        "    try:\n",
        "        # Outer Tag Object\n",
        "        title = soup.find(\"div\", attrs={\"class\":'bui-f-color-destructive js-strikethrough-price prco-inline-block-maker-helper bui-price-display__original'})\n",
        "        \n",
        "        # Inner NavigatableString Object\n",
        "        title_value = title.text\n",
        "\n",
        "        # Title as a string value\n",
        "        title_string = title_value.strip()\n",
        "\n",
        "    except AttributeError:\n",
        "        title_string = \"\"\n",
        "\n",
        "    return title_string\n",
        "\n",
        "def get_Discounted_price(soup):\n",
        "    try:\n",
        "        # Outer Tag Object\n",
        "        title = soup.find(\"span\", attrs={\"class\":'prco-valign-middle-helper'})\n",
        "\n",
        "        # Inner NavigatableString Object\n",
        "        title_value = title.text\n",
        "\n",
        "        # Title as a string value\n",
        "        title_string = title_value.strip()\n",
        "\n",
        "    except AttributeError:\n",
        "        title_string = \"\"\n",
        "\n",
        "    return title_string\n",
        "\n",
        "def get_Room_Sqft(soup):\n",
        "    try:\n",
        "        # Outer Tag Object\n",
        "        title = soup.find(\"div\", attrs={\"data-name-en\":'room size'})\n",
        "        \n",
        "        # Inner NavigatableString Object\n",
        "        title_value = title.text\n",
        "\n",
        "        # Title as a string value\n",
        "        title_string = title_value.strip()\n",
        "\n",
        "    except AttributeError:\n",
        "        title_string = \"\"\n",
        "\n",
        "    return title_string\n",
        "\n",
        "def get_Hotel_Facilities(soup):\n",
        "    try:\n",
        "        # Outer Tag Object\n",
        "        title = soup.find_all(\"div\", attrs={\"class\":\"db29ecfbe2 c21a2f2d97 fe87d598e8\"})\n",
        "        new_list = []\n",
        "        # Inner NavigatableString Object\n",
        "        for i in range(len(title)):\n",
        "          new_list.append(title[i].text.strip())\n",
        "\n",
        "    except AttributeError:\n",
        "        new_list = \"\"\n",
        "\n",
        "    return new_list\n",
        "\n",
        "def get_Hotel_Location(soup):\n",
        "    try:\n",
        "        # Outer Tag Object\n",
        "        title = soup.find(\"span\", attrs={\"data-node_tt_id\":\"location_score_tooltip\"})\n",
        "\n",
        "         # Inner NavigatableString Object\n",
        "        title_value = title.text\n",
        "\n",
        "        # Title as a string value\n",
        "        title_string = title_value.strip()\n",
        "\n",
        "    except AttributeError:\n",
        "        title_string = \"\"\n",
        "\n",
        "    return title_string\n",
        "\n"
      ],
      "metadata": {
        "id": "aNdOJSTnspLq"
      },
      "execution_count": 2,
      "outputs": []
    },
    {
      "cell_type": "code",
      "source": [
        "if __name__ == '__main__':\n",
        "  HEADERS = ({'User-Agent':'','Accept-Language': 'en-US, en;q=0.5'})\n",
        "\n",
        "  URL = \"https://www.booking.com/searchresults.html?label=gen173bo-1DCAEoggI46AdIM1gDaGyIAQGYATG4ARfIAQzYAQPoAQH4AQOIAgGYAiGoAgO4At2v-Z0GwAIB0gIkZTk5OWM2MmMtMGQxYi00Y2YzLThjNmYtNDIxYzFmMjFkMTlj2AIE4AIB&sid=b406f4959285da1a5af95c1b3db1768c&aid=304142&sb=1&sb_lp=1&src=index&src_elem=sb&error_url=https%3A%2F%2Fwww.booking.com%2Findex.html%3Flabel%3Dgen173bo-1DCAEoggI46AdIM1gDaGyIAQGYATG4ARfIAQzYAQPoAQH4AQOIAgGYAiGoAgO4At2v-Z0GwAIB0gIkZTk5OWM2MmMtMGQxYi00Y2YzLThjNmYtNDIxYzFmMjFkMTlj2AIE4AIB%26sid%3Db406f4959285da1a5af95c1b3db1768c%26sb_price_type%3Dtotal%26%26&ss=Goa%2C+India&is_ski_area=&ssne=Y%C4%81r%C4%81da&ssne_untouched=Y%C4%81r%C4%81da&checkin_year=2023&checkin_month=1&checkin_monthday=11&checkout_year=2023&checkout_month=1&checkout_monthday=12&efdco=1&group_adults=2&group_children=0&no_rooms=1&b_h4u_keep_filters=&from_sf=1&dest_id=4127&dest_type=region&search_pageview_id=c77d2deea5b202ab&search_selected=true&offset=0\"\n",
        "\n",
        "  webpage = requests.get(URL,headers=HEADERS)\n",
        "  \n",
        "  soup = BeautifulSoup(webpage.content,\"html.parser\")\n",
        "\n"
      ],
      "metadata": {
        "id": "sTrZ3f-jsttk"
      },
      "execution_count": 8,
      "outputs": []
    },
    {
      "cell_type": "code",
      "source": [
        "page_no=0\n",
        "d = {\"Hotel_Name\":[], \"Hotel_Rating\":[], \"Room_type\":[], \"Original_price\":[],\"Discounted_price\":[],\"Room_sqft\":[],\"Facilities\":[],\"Location\":[]}\n",
        "while (page_no<=0):\n",
        "     URL = f\"https://www.booking.com/searchresults.html?label=gen173bo-1DCAEoggI46AdIM1gDaGyIAQGYATG4ARfIAQzYAQPoAQH4AQOIAgGYAiGoAgO4At2v-Z0GwAIB0gIkZTk5OWM2MmMtMGQxYi00Y2YzLThjNmYtNDIxYzFmMjFkMTlj2AIE4AIB&sid=b406f4959285da1a5af95c1b3db1768c&aid=304142&sb=1&sb_lp=1&src=index&src_elem=sb&error_url=https%3A%2F%2Fwww.booking.com%2Findex.html%3Flabel%3Dgen173bo-1DCAEoggI46AdIM1gDaGyIAQGYATG4ARfIAQzYAQPoAQH4AQOIAgGYAiGoAgO4At2v-Z0GwAIB0gIkZTk5OWM2MmMtMGQxYi00Y2YzLThjNmYtNDIxYzFmMjFkMTlj2AIE4AIB%26sid%3Db406f4959285da1a5af95c1b3db1768c%26sb_price_type%3Dtotal%26%26&ss=Goa%2C+India&is_ski_area=&ssne=Y%C4%81r%C4%81da&ssne_untouched=Y%C4%81r%C4%81da&checkin_year=2023&checkin_month=1&checkin_monthday=11&checkout_year=2023&checkout_month=1&checkout_monthday=12&efdco=1&group_adults=2&group_children=0&no_rooms=1&b_h4u_keep_filters=&from_sf=1&dest_id=4127&dest_type=region&search_pageview_id=c77d2deea5b202ab&search_selected=true&offset={page_no}\"\n",
        "     new_webpage = requests.get(URL, headers=HEADERS)\n",
        "     soup = BeautifulSoup(new_webpage.content,\"html.parser\")\n",
        "     links = soup.find_all(\"a\", attrs={\"class\":\"e13098a59f\"})\n",
        "     for link in links:\n",
        "        new_webpage = requests.get(link.get('href'), headers=HEADERS)\n",
        "        new_soup = BeautifulSoup(new_webpage.content, \"html.parser\")\n",
        "        d[\"Hotel_Name\"].append(get_Hotel_Name(new_soup))\n",
        "        d[\"Hotel_Rating\"].append(get_Hotel_Rating(new_soup))\n",
        "        d[\"Room_type\"].append(get_Room_type(new_soup))\n",
        "        d[\"Original_price\"].append(get_Original_price(new_soup))\n",
        "        d[\"Discounted_price\"].append(get_Discounted_price(new_soup))\n",
        "        d[\"Room_sqft\"].append(get_Room_Sqft(new_soup))\n",
        "        d[\"Facilities\"].append(get_Hotel_Facilities(new_soup))\n",
        "        d[\"Location\"].append(get_Hotel_Location(new_soup))\n",
        "\n",
        "     page_no += 25"
      ],
      "metadata": {
        "id": "I0R02w7Kszpj"
      },
      "execution_count": 9,
      "outputs": []
    },
    {
      "cell_type": "code",
      "source": [
        "Hotel_df = pd.DataFrame.from_dict(d)\n",
        "Hotel_df.to_csv(\"Hotel_data.csv\", header=True, index=False)\n",
        "print(Hotel_df.head())"
      ],
      "metadata": {
        "colab": {
          "base_uri": "https://localhost:8080/"
        },
        "id": "80tQp2WFs2jq",
        "outputId": "936502fc-e1f9-4822-98b0-05742babab5f"
      },
      "execution_count": 7,
      "outputs": [
        {
          "output_type": "stream",
          "name": "stdout",
          "text": [
            "                                          Hotel_Name Hotel_Rating Room_type  \\\n",
            "0                                    JM Vista Suites          8.5             \n",
            "1  Zulu Land cottages - near Curlies beach shack ...          7.8             \n",
            "2                                Nirvana Hill Resort          8.7             \n",
            "3                   The Foothills - A Boutique Hotel          9.0             \n",
            "4                    Whoopers Boutique Hotel, Anjuna          9.8             \n",
            "\n",
            "  Original_price Discounted_price Room_sqft Facilities  \\\n",
            "0                                                   []   \n",
            "1                                                   []   \n",
            "2                                                   []   \n",
            "3                                                   []   \n",
            "4                                                   []   \n",
            "\n",
            "                                            Location  \n",
            "0  384/5A, Sodiem, Siolim, North Goa, 403517 Siol...  \n",
            "1  House No 774, St Michael Wado, Anjuna Beach, A...  \n",
            "2  427/B Covatem Near to Curtorim lake, Curtorim,...  \n",
            "3  Near Blue Lagoon, bammon waddo, Siolim, Bardez...  \n",
            "4                 Chappel Road, 403519 Anjuna, India  \n"
          ]
        }
      ]
    }
  ]
}